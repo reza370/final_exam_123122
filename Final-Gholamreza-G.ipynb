{
  "cells": [
    {
      "cell_type": "markdown",
      "metadata": {
        "id": "tanGUW6DrdfS"
      },
      "source": [
        "# ML - Final - 2023\n",
        "\n",
        "## Instruction\n",
        "\n",
        "- Modify this file to be Final-<Your FirstName-[First Letter of Last Name]>, e.g., <code>Final-Chaklam-S.ipynb</code>\n",
        "- This exam is open-booked; open-internet, but no interactions with human beings or ChatGPT.\n",
        "- The completed exams shall be submitted at the virtual learning environment.\n",
        "- All code should be **complemented with comments**, unless it's really obvious.  **We reserve the privilege to give you zero for any part of the question where the benefit of doubt is not justified**"
      ]
    },
    {
      "cell_type": "markdown",
      "metadata": {
        "id": "py_UElLhrEnp"
      },
      "source": [
        "# Coding\n",
        "\n",
        "#### Summary\n",
        "In this section, you will be dealing with a classification problem. You will be generating your own data, training and evaluating them. You will be asked to create a neural network according to the instructions.\n",
        "\n",
        "The generating data will be a 2d-data `(28, 28)` being arranged similar to the input shape of `nn.Conv2d` with channel = 1, height = 28 and width = 28 `(batch_size, channel, height, width)`\n",
        "\n",
        "You will then be asked to create a network consisting of 2 `nn.Conv2d` layers followed by a `nn.Linear` layer. After the `nn.Linear` layer, we send the data to a `nn.LSTM` layer where `num_layer` and `hidden_size` can be defined. This `hidden_size` is set to be the same as `num_classes`. The output of lstm is then directly returned."
      ]
    },
    {
      "cell_type": "markdown",
      "metadata": {
        "id": "8HRaDlgpDqR1"
      },
      "source": [
        "Import Libraries"
      ]
    },
    {
      "cell_type": "code",
      "execution_count": null,
      "metadata": {
        "id": "3kcPxgAlPve4"
      },
      "outputs": [],
      "source": []
    },
    {
      "cell_type": "markdown",
      "metadata": {
        "id": "dN4md_BKR1pL"
      },
      "source": [
        "1. Generate a 4 class 2d-data with 70000 samples. (10 points)\n",
        "- Class 0 data is sampled from a normal distribution with mean = 0, std = 1, size = `(28,28)`\n",
        "- Class 1 data is sampled from a normal distribution with mean = 5, std = 1, size = `(28,28)`\n",
        "- Class 2 data is sampled from a normal distribution with mean = 15, std = 1, size = `(28,28)`\n",
        "- Class 3 data is sampled from a normal distribution with mean = 20, std = 1, size = `(28,28)`\n",
        "\n",
        "The final shape of *x* should be `(70000, 1, 28, 28)` and *y* should be `(70000,)`"
      ]
    },
    {
      "cell_type": "code",
      "execution_count": null,
      "metadata": {
        "id": "zjr08O6BSith"
      },
      "outputs": [],
      "source": []
    },
    {
      "cell_type": "markdown",
      "metadata": {
        "id": "VyeGf8jzYn_g"
      },
      "source": [
        "In case you are unable to do question 1, Use the following lines of code to generate your data and continue with question 3. But be aware that no marks will be given to question 1 and question 2"
      ]
    },
    {
      "cell_type": "code",
      "execution_count": null,
      "metadata": {
        "id": "nLD-0uffYnDN"
      },
      "outputs": [],
      "source": [
        "import torchvision\n",
        "training_data = torchvision.datasets.MNIST('./data/', train=True, download=True,\n",
        "                             transform=torchvision.transforms.Compose([\n",
        "                               torchvision.transforms.ToTensor(),\n",
        "                               torchvision.transforms.Normalize(\n",
        "                                 (0.5,), (0.5,))\n",
        "                             ]))\n",
        "\n",
        "testing_data  = torchvision.datasets.MNIST('./data/', train=False, download=True,\n",
        "                             transform=torchvision.transforms.Compose([\n",
        "                               torchvision.transforms.ToTensor(),\n",
        "                               torchvision.transforms.Normalize(\n",
        "                                 (0.5,), (0.5,))\n",
        "                             ]))"
      ]
    },
    {
      "cell_type": "markdown",
      "metadata": {
        "id": "i4gqWf-BAnfK"
      },
      "source": [
        "2. Split your data into train and test with the split ratio of 1/7 (5 points)"
      ]
    },
    {
      "cell_type": "code",
      "execution_count": null,
      "metadata": {
        "id": "3JGmI82aYOFt"
      },
      "outputs": [],
      "source": []
    },
    {
      "cell_type": "markdown",
      "metadata": {
        "id": "hVfzHO4tSutV"
      },
      "source": [
        "3. Check the size of your train and test sets (5 points)"
      ]
    },
    {
      "cell_type": "code",
      "execution_count": null,
      "metadata": {
        "id": "RzMQPWlgScTA"
      },
      "outputs": [],
      "source": []
    },
    {
      "cell_type": "markdown",
      "metadata": {
        "id": "zI3okI8lSyA9"
      },
      "source": [
        "4. Set up your train and test loader with a batch size of 32 and `shuffle = True` (10 points)"
      ]
    },
    {
      "cell_type": "code",
      "execution_count": null,
      "metadata": {
        "id": "mU-HO84OSizY"
      },
      "outputs": [],
      "source": []
    },
    {
      "cell_type": "markdown",
      "metadata": {
        "id": "MgKC7RaHS6At"
      },
      "source": [
        "5. Check the shape of your batch. It should be `[batchsize = 32, channel = 1, height = 28, width = 28]` (5 points)"
      ]
    },
    {
      "cell_type": "code",
      "execution_count": null,
      "metadata": {
        "id": "-AFbESMhTx8q"
      },
      "outputs": [],
      "source": []
    },
    {
      "cell_type": "markdown",
      "metadata": {
        "id": "-DV6rOMhTcSt"
      },
      "source": [
        "6. Plot 6 samples of any classes (10 points)"
      ]
    },
    {
      "cell_type": "code",
      "execution_count": null,
      "metadata": {
        "colab": {
          "base_uri": "https://localhost:8080/",
          "height": 399
        },
        "id": "PhVfLFEUT9Aj",
        "outputId": "33a04353-06d4-47e7-ebda-77513a94672e"
      },
      "outputs": [
        {
          "name": "stdout",
          "output_type": "stream",
          "text": [
            "torch.Size([1, 28, 28]) torch.Size([])\n",
            "torch.Size([1, 28, 28]) torch.Size([])\n",
            "torch.Size([1, 28, 28]) torch.Size([])\n",
            "torch.Size([1, 28, 28]) torch.Size([])\n",
            "torch.Size([1, 28, 28]) torch.Size([])\n",
            "torch.Size([1, 28, 28]) torch.Size([])\n"
          ]
        },
        {
          "data": {
            "image/png": "[encoded data removed]",
            "text/plain": [
              "<Figure size 432x288 with 6 Axes>"
            ]
          },
          "metadata": {
            "needs_background": "light"
          },
          "output_type": "display_data"
        }
      ],
      "source": []
    },
    {
      "cell_type": "markdown",
      "metadata": {
        "id": "jPvl4EyRfb0s"
      },
      "source": [
        "If you use MNIST"
      ]
    },
    {
      "cell_type": "code",
      "execution_count": null,
      "metadata": {
        "colab": {
          "base_uri": "https://localhost:8080/",
          "height": 284
        },
        "id": "c5QTjIOcfdJf",
        "outputId": "88e5f37a-3ef1-4aad-8319-e52789c596be"
      },
      "outputs": [
        {
          "data": {
            "image/png": "[encoded data removed]",
            "text/plain": [
              "<Figure size 432x288 with 6 Axes>"
            ]
          },
          "metadata": {},
          "output_type": "display_data"
        }
      ],
      "source": []
    },
    {
      "cell_type": "markdown",
      "metadata": {
        "id": "gjsFtdXgTxtN"
      },
      "source": [
        "7. Configure your device. (5 points)"
      ]
    },
    {
      "cell_type": "code",
      "execution_count": null,
      "metadata": {
        "id": "-SBaWTaIasS3"
      },
      "outputs": [],
      "source": []
    },
    {
      "cell_type": "markdown",
      "metadata": {
        "id": "p5CFDBK8XVZA"
      },
      "source": [
        "8. Define your class called `Net` with the following layers (40 points)\n",
        "- cnn2d layer 1 with `in_channel = 1`, `out_channel = 10`, `kernel size = 5`, dropout of `p = 0.5`, `maxpool` and `relu` as its activation function\n",
        "- cnn2d layer 2 with `in_channel = 10`, `out_channel = 20`, `kernel size = 5`, dropout of `p = 0.5`, `maxpool` and `relu` as its activation function\n",
        "- linear layer with output of 25\n",
        "- lstm with `num_layer = 2` and set hidden size to be num_classes\n",
        "\n",
        "\n"
      ]
    },
    {
      "cell_type": "code",
      "execution_count": null,
      "metadata": {
        "id": "JgQ7KEGSolg0"
      },
      "outputs": [],
      "source": []
    },
    {
      "cell_type": "markdown",
      "metadata": {
        "id": "ZX-z2gwEV0xq"
      },
      "source": [
        "9. Create a model object with `num_layers of lstm = 2`, `hidden_size` and `num_classes = 4` (10 points)\n",
        "\n",
        "If you use MNIST hidden_size and  `num_classes = 10`\n"
      ]
    },
    {
      "cell_type": "code",
      "execution_count": null,
      "metadata": {
        "id": "c5XXKpoNbryI"
      },
      "outputs": [],
      "source": []
    },
    {
      "cell_type": "markdown",
      "metadata": {
        "id": "oB5mzlq1hUjr"
      },
      "source": [
        "10. Define an appropriate loss function for classification of this dataset (2.5 points)"
      ]
    },
    {
      "cell_type": "code",
      "execution_count": null,
      "metadata": {
        "id": "qMwV-eeJhZiM"
      },
      "outputs": [],
      "source": []
    },
    {
      "cell_type": "markdown",
      "metadata": {
        "id": "rg8zUUMGhb3D"
      },
      "source": [
        "11. Define your optimizer as `Adam` with learning rate of `0.001` (5 points)"
      ]
    },
    {
      "cell_type": "code",
      "execution_count": null,
      "metadata": {
        "id": "IOpYvWwJcSDm"
      },
      "outputs": [],
      "source": []
    },
    {
      "cell_type": "markdown",
      "metadata": {
        "id": "UHy0PqUZiPbF"
      },
      "source": [
        "12. Define your train function and train your model with `n_epoch = 3` (15 points)"
      ]
    },
    {
      "cell_type": "code",
      "execution_count": null,
      "metadata": {
        "id": "i1jZoAG_c5Yl"
      },
      "outputs": [],
      "source": []
    },
    {
      "cell_type": "markdown",
      "metadata": {
        "id": "hK7_TsS5iaGi"
      },
      "source": [
        "13. Plot your train losses and accuracies (10 points)"
      ]
    },
    {
      "cell_type": "code",
      "execution_count": null,
      "metadata": {
        "id": "VOg2XS01sAsI"
      },
      "outputs": [],
      "source": []
    },
    {
      "cell_type": "markdown",
      "metadata": {
        "id": "UCBLreP1iUUk"
      },
      "source": [
        "14. Evaluate your model with your test set (10 points)"
      ]
    },
    {
      "cell_type": "code",
      "execution_count": null,
      "metadata": {
        "id": "nt3fbR1EecZF"
      },
      "outputs": [],
      "source": []
    }
  ],
  "metadata": {
    "accelerator": "GPU",
    "colab": {
      "provenance": []
    },
    "kernelspec": {
      "display_name": "Python 3",
      "name": "python3"
    },
    "language_info": {
      "name": "python"
    }
  },
  "nbformat": 4,
  "nbformat_minor": 0
}
